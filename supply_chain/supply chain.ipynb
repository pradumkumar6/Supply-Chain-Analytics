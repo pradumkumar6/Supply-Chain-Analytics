{
 "cells": [
  {
   "cell_type": "code",
   "execution_count": 0,
   "metadata": {
    "application/vnd.databricks.v1+cell": {
     "cellMetadata": {
      "byteLimit": 2048000,
      "rowLimit": 10000
     },
     "inputWidgets": {},
     "nuid": "e571f02d-6371-481d-b98a-c2f12d4910c8",
     "showTitle": false,
     "tableResultSettingsMap": {},
     "title": ""
    }
   },
   "outputs": [
    {
     "data": {
      "application/vnd.databricks.v1+bamboolib_hint": "{\"pd.DataFrames\": [], \"version\": \"0.0.1\"}",
      "text/plain": []
     },
     "metadata": {},
     "output_type": "display_data"
    }
   ],
   "source": [
    "from pymongo import MongoClient\n",
    "import pandas as pd"
   ]
  },
  {
   "cell_type": "code",
   "execution_count": 0,
   "metadata": {
    "application/vnd.databricks.v1+cell": {
     "cellMetadata": {
      "byteLimit": 2048000,
      "rowLimit": 10000
     },
     "inputWidgets": {},
     "nuid": "c67016e4-c0c7-456c-a6d4-30a46b9b8c57",
     "showTitle": false,
     "tableResultSettingsMap": {},
     "title": ""
    }
   },
   "outputs": [
    {
     "name": "stdout",
     "output_type": "stream",
     "text": [
      "Python interpreter will be restarted.\n",
      "Collecting pymongo\n",
      "  Downloading pymongo-4.11.3-cp39-cp39-manylinux_2_17_x86_64.manylinux2014_x86_64.whl (921 kB)\n",
      "Collecting dnspython<3.0.0,>=1.16.0\n",
      "  Downloading dnspython-2.7.0-py3-none-any.whl (313 kB)\n",
      "Installing collected packages: dnspython, pymongo\n",
      "Successfully installed dnspython-2.7.0 pymongo-4.11.3\n",
      "Python interpreter will be restarted.\n"
     ]
    }
   ],
   "source": [
    "pip install pymongo"
   ]
  },
  {
   "cell_type": "code",
   "execution_count": 0,
   "metadata": {
    "application/vnd.databricks.v1+cell": {
     "cellMetadata": {
      "byteLimit": 2048000,
      "rowLimit": 10000
     },
     "inputWidgets": {},
     "nuid": "9e758c1b-9644-4b0e-a166-b9171d5a397e",
     "showTitle": false,
     "tableResultSettingsMap": {},
     "title": ""
    }
   },
   "outputs": [],
   "source": [
    "# connnect with mongodb\n",
    "uri = \"Your mongodb uri.\"\n",
    "\n",
    "# Create a new client and connect to the server\n",
    "client = MongoClient(uri)\n",
    "db = client['inventory']\n",
    "collection = db[\"supplychain_data\"]"
   ]
  },
  {
   "cell_type": "code",
   "execution_count": 0,
   "metadata": {
    "application/vnd.databricks.v1+cell": {
     "cellMetadata": {
      "byteLimit": 2048000,
      "rowLimit": 10000
     },
     "inputWidgets": {},
     "nuid": "ec0f7d13-e25d-48f2-8a9b-6121e3cd17ac",
     "showTitle": false,
     "tableResultSettingsMap": {},
     "title": ""
    }
   },
   "outputs": [],
   "source": [
    "data = list(collection.find())"
   ]
  },
  {
   "cell_type": "code",
   "execution_count": 0,
   "metadata": {
    "application/vnd.databricks.v1+cell": {
     "cellMetadata": {
      "byteLimit": 2048000,
      "rowLimit": 10000
     },
     "inputWidgets": {},
     "nuid": "98851096-0c05-4687-b377-d812cc522a9c",
     "showTitle": false,
     "tableResultSettingsMap": {},
     "title": ""
    }
   },
   "outputs": [],
   "source": [
    "df = pd.DataFrame(data)"
   ]
  },
  {
   "cell_type": "code",
   "execution_count": 0,
   "metadata": {
    "application/vnd.databricks.v1+cell": {
     "cellMetadata": {
      "byteLimit": 2048000,
      "rowLimit": 10000
     },
     "inputWidgets": {},
     "nuid": "8f128b7a-7fc9-44d0-ab51-988d88bbb924",
     "showTitle": false,
     "tableResultSettingsMap": {},
     "title": ""
    }
   },
   "outputs": [
    {
     "data": {
      "text/html": [
       "<div>\n",
       "<style scoped>\n",
       "    .dataframe tbody tr th:only-of-type {\n",
       "        vertical-align: middle;\n",
       "    }\n",
       "\n",
       "    .dataframe tbody tr th {\n",
       "        vertical-align: top;\n",
       "    }\n",
       "\n",
       "    .dataframe thead th {\n",
       "        text-align: right;\n",
       "    }\n",
       "</style>\n",
       "<table border=\"1\" class=\"dataframe\">\n",
       "  <thead>\n",
       "    <tr style=\"text-align: right;\">\n",
       "      <th></th>\n",
       "      <th>_id</th>\n",
       "      <th>Product type</th>\n",
       "      <th>SKU</th>\n",
       "      <th>Price</th>\n",
       "      <th>Availability</th>\n",
       "      <th>Number of products sold</th>\n",
       "      <th>Revenue generated</th>\n",
       "      <th>Customer demographics</th>\n",
       "      <th>Stock levels</th>\n",
       "      <th>Lead times</th>\n",
       "      <th>...</th>\n",
       "      <th>Location</th>\n",
       "      <th>Lead time</th>\n",
       "      <th>Production volumes</th>\n",
       "      <th>Manufacturing lead time</th>\n",
       "      <th>Manufacturing costs</th>\n",
       "      <th>Inspection results</th>\n",
       "      <th>Defect rates</th>\n",
       "      <th>Transportation modes</th>\n",
       "      <th>Routes</th>\n",
       "      <th>Costs</th>\n",
       "    </tr>\n",
       "  </thead>\n",
       "  <tbody>\n",
       "    <tr>\n",
       "      <th>0</th>\n",
       "      <td>67de468cc4c312aea5b5ff0a</td>\n",
       "      <td>haircare</td>\n",
       "      <td>SKU0</td>\n",
       "      <td>69.808006</td>\n",
       "      <td>55</td>\n",
       "      <td>802</td>\n",
       "      <td>8661.996792</td>\n",
       "      <td>Non-binary</td>\n",
       "      <td>58</td>\n",
       "      <td>7</td>\n",
       "      <td>...</td>\n",
       "      <td>Mumbai</td>\n",
       "      <td>29</td>\n",
       "      <td>215</td>\n",
       "      <td>29</td>\n",
       "      <td>46.279879</td>\n",
       "      <td>Pending</td>\n",
       "      <td>0.226410</td>\n",
       "      <td>Road</td>\n",
       "      <td>Route B</td>\n",
       "      <td>187.752075</td>\n",
       "    </tr>\n",
       "    <tr>\n",
       "      <th>1</th>\n",
       "      <td>67de468cc4c312aea5b5ff0b</td>\n",
       "      <td>skincare</td>\n",
       "      <td>SKU1</td>\n",
       "      <td>14.843523</td>\n",
       "      <td>95</td>\n",
       "      <td>736</td>\n",
       "      <td>7460.900065</td>\n",
       "      <td>Female</td>\n",
       "      <td>53</td>\n",
       "      <td>30</td>\n",
       "      <td>...</td>\n",
       "      <td>Mumbai</td>\n",
       "      <td>23</td>\n",
       "      <td>517</td>\n",
       "      <td>30</td>\n",
       "      <td>33.616769</td>\n",
       "      <td>Pending</td>\n",
       "      <td>4.854068</td>\n",
       "      <td>Road</td>\n",
       "      <td>Route B</td>\n",
       "      <td>503.065579</td>\n",
       "    </tr>\n",
       "    <tr>\n",
       "      <th>2</th>\n",
       "      <td>67de468cc4c312aea5b5ff0c</td>\n",
       "      <td>haircare</td>\n",
       "      <td>SKU2</td>\n",
       "      <td>11.319683</td>\n",
       "      <td>34</td>\n",
       "      <td>8</td>\n",
       "      <td>9577.749626</td>\n",
       "      <td>Unknown</td>\n",
       "      <td>1</td>\n",
       "      <td>10</td>\n",
       "      <td>...</td>\n",
       "      <td>Mumbai</td>\n",
       "      <td>12</td>\n",
       "      <td>971</td>\n",
       "      <td>27</td>\n",
       "      <td>30.688019</td>\n",
       "      <td>Pending</td>\n",
       "      <td>4.580593</td>\n",
       "      <td>Air</td>\n",
       "      <td>Route C</td>\n",
       "      <td>141.920282</td>\n",
       "    </tr>\n",
       "    <tr>\n",
       "      <th>3</th>\n",
       "      <td>67de468cc4c312aea5b5ff0d</td>\n",
       "      <td>skincare</td>\n",
       "      <td>SKU3</td>\n",
       "      <td>61.163343</td>\n",
       "      <td>68</td>\n",
       "      <td>83</td>\n",
       "      <td>7766.836426</td>\n",
       "      <td>Non-binary</td>\n",
       "      <td>23</td>\n",
       "      <td>13</td>\n",
       "      <td>...</td>\n",
       "      <td>Kolkata</td>\n",
       "      <td>24</td>\n",
       "      <td>937</td>\n",
       "      <td>18</td>\n",
       "      <td>35.624741</td>\n",
       "      <td>Fail</td>\n",
       "      <td>4.746649</td>\n",
       "      <td>Rail</td>\n",
       "      <td>Route A</td>\n",
       "      <td>254.776159</td>\n",
       "    </tr>\n",
       "    <tr>\n",
       "      <th>4</th>\n",
       "      <td>67de468cc4c312aea5b5ff0e</td>\n",
       "      <td>skincare</td>\n",
       "      <td>SKU4</td>\n",
       "      <td>4.805496</td>\n",
       "      <td>26</td>\n",
       "      <td>871</td>\n",
       "      <td>2686.505152</td>\n",
       "      <td>Non-binary</td>\n",
       "      <td>5</td>\n",
       "      <td>3</td>\n",
       "      <td>...</td>\n",
       "      <td>Delhi</td>\n",
       "      <td>5</td>\n",
       "      <td>414</td>\n",
       "      <td>3</td>\n",
       "      <td>92.065161</td>\n",
       "      <td>Fail</td>\n",
       "      <td>3.145580</td>\n",
       "      <td>Air</td>\n",
       "      <td>Route A</td>\n",
       "      <td>923.440632</td>\n",
       "    </tr>\n",
       "  </tbody>\n",
       "</table>\n",
       "<p>5 rows × 25 columns</p>\n",
       "</div>"
      ]
     },
     "metadata": {
      "application/vnd.databricks.v1+output": {
       "addedWidgets": {},
       "arguments": {},
       "data": "<div>\n<style scoped>\n    .dataframe tbody tr th:only-of-type {\n        vertical-align: middle;\n    }\n\n    .dataframe tbody tr th {\n        vertical-align: top;\n    }\n\n    .dataframe thead th {\n        text-align: right;\n    }\n</style>\n<table border=\"1\" class=\"dataframe\">\n  <thead>\n    <tr style=\"text-align: right;\">\n      <th></th>\n      <th>_id</th>\n      <th>Product type</th>\n      <th>SKU</th>\n      <th>Price</th>\n      <th>Availability</th>\n      <th>Number of products sold</th>\n      <th>Revenue generated</th>\n      <th>Customer demographics</th>\n      <th>Stock levels</th>\n      <th>Lead times</th>\n      <th>...</th>\n      <th>Location</th>\n      <th>Lead time</th>\n      <th>Production volumes</th>\n      <th>Manufacturing lead time</th>\n      <th>Manufacturing costs</th>\n      <th>Inspection results</th>\n      <th>Defect rates</th>\n      <th>Transportation modes</th>\n      <th>Routes</th>\n      <th>Costs</th>\n    </tr>\n  </thead>\n  <tbody>\n    <tr>\n      <th>0</th>\n      <td>67de468cc4c312aea5b5ff0a</td>\n      <td>haircare</td>\n      <td>SKU0</td>\n      <td>69.808006</td>\n      <td>55</td>\n      <td>802</td>\n      <td>8661.996792</td>\n      <td>Non-binary</td>\n      <td>58</td>\n      <td>7</td>\n      <td>...</td>\n      <td>Mumbai</td>\n      <td>29</td>\n      <td>215</td>\n      <td>29</td>\n      <td>46.279879</td>\n      <td>Pending</td>\n      <td>0.226410</td>\n      <td>Road</td>\n      <td>Route B</td>\n      <td>187.752075</td>\n    </tr>\n    <tr>\n      <th>1</th>\n      <td>67de468cc4c312aea5b5ff0b</td>\n      <td>skincare</td>\n      <td>SKU1</td>\n      <td>14.843523</td>\n      <td>95</td>\n      <td>736</td>\n      <td>7460.900065</td>\n      <td>Female</td>\n      <td>53</td>\n      <td>30</td>\n      <td>...</td>\n      <td>Mumbai</td>\n      <td>23</td>\n      <td>517</td>\n      <td>30</td>\n      <td>33.616769</td>\n      <td>Pending</td>\n      <td>4.854068</td>\n      <td>Road</td>\n      <td>Route B</td>\n      <td>503.065579</td>\n    </tr>\n    <tr>\n      <th>2</th>\n      <td>67de468cc4c312aea5b5ff0c</td>\n      <td>haircare</td>\n      <td>SKU2</td>\n      <td>11.319683</td>\n      <td>34</td>\n      <td>8</td>\n      <td>9577.749626</td>\n      <td>Unknown</td>\n      <td>1</td>\n      <td>10</td>\n      <td>...</td>\n      <td>Mumbai</td>\n      <td>12</td>\n      <td>971</td>\n      <td>27</td>\n      <td>30.688019</td>\n      <td>Pending</td>\n      <td>4.580593</td>\n      <td>Air</td>\n      <td>Route C</td>\n      <td>141.920282</td>\n    </tr>\n    <tr>\n      <th>3</th>\n      <td>67de468cc4c312aea5b5ff0d</td>\n      <td>skincare</td>\n      <td>SKU3</td>\n      <td>61.163343</td>\n      <td>68</td>\n      <td>83</td>\n      <td>7766.836426</td>\n      <td>Non-binary</td>\n      <td>23</td>\n      <td>13</td>\n      <td>...</td>\n      <td>Kolkata</td>\n      <td>24</td>\n      <td>937</td>\n      <td>18</td>\n      <td>35.624741</td>\n      <td>Fail</td>\n      <td>4.746649</td>\n      <td>Rail</td>\n      <td>Route A</td>\n      <td>254.776159</td>\n    </tr>\n    <tr>\n      <th>4</th>\n      <td>67de468cc4c312aea5b5ff0e</td>\n      <td>skincare</td>\n      <td>SKU4</td>\n      <td>4.805496</td>\n      <td>26</td>\n      <td>871</td>\n      <td>2686.505152</td>\n      <td>Non-binary</td>\n      <td>5</td>\n      <td>3</td>\n      <td>...</td>\n      <td>Delhi</td>\n      <td>5</td>\n      <td>414</td>\n      <td>3</td>\n      <td>92.065161</td>\n      <td>Fail</td>\n      <td>3.145580</td>\n      <td>Air</td>\n      <td>Route A</td>\n      <td>923.440632</td>\n    </tr>\n  </tbody>\n</table>\n<p>5 rows × 25 columns</p>\n</div>",
       "datasetInfos": [],
       "metadata": {},
       "removedWidgets": [],
       "textData": null,
       "type": "htmlSandbox"
      }
     },
     "output_type": "display_data"
    }
   ],
   "source": [
    "df.head(5)"
   ]
  },
  {
   "cell_type": "code",
   "execution_count": 0,
   "metadata": {
    "application/vnd.databricks.v1+cell": {
     "cellMetadata": {
      "byteLimit": 2048000,
      "rowLimit": 10000
     },
     "inputWidgets": {},
     "nuid": "b1ed013f-b041-4f66-82f5-02d6c5a5d48a",
     "showTitle": false,
     "tableResultSettingsMap": {},
     "title": ""
    }
   },
   "outputs": [],
   "source": [
    "df.drop(columns=[\"_id\"],inplace=True)"
   ]
  },
  {
   "cell_type": "code",
   "execution_count": 0,
   "metadata": {
    "application/vnd.databricks.v1+cell": {
     "cellMetadata": {
      "byteLimit": 2048000,
      "rowLimit": 10000
     },
     "inputWidgets": {},
     "nuid": "cdf64f01-9032-4663-8e6b-1beb20ef7129",
     "showTitle": false,
     "tableResultSettingsMap": {},
     "title": ""
    }
   },
   "outputs": [
    {
     "data": {
      "text/html": [
       "<div>\n",
       "<style scoped>\n",
       "    .dataframe tbody tr th:only-of-type {\n",
       "        vertical-align: middle;\n",
       "    }\n",
       "\n",
       "    .dataframe tbody tr th {\n",
       "        vertical-align: top;\n",
       "    }\n",
       "\n",
       "    .dataframe thead th {\n",
       "        text-align: right;\n",
       "    }\n",
       "</style>\n",
       "<table border=\"1\" class=\"dataframe\">\n",
       "  <thead>\n",
       "    <tr style=\"text-align: right;\">\n",
       "      <th></th>\n",
       "      <th>Product type</th>\n",
       "      <th>SKU</th>\n",
       "      <th>Price</th>\n",
       "      <th>Availability</th>\n",
       "      <th>Number of products sold</th>\n",
       "      <th>Revenue generated</th>\n",
       "      <th>Customer demographics</th>\n",
       "      <th>Stock levels</th>\n",
       "      <th>Lead times</th>\n",
       "      <th>Order quantities</th>\n",
       "      <th>...</th>\n",
       "      <th>Location</th>\n",
       "      <th>Lead time</th>\n",
       "      <th>Production volumes</th>\n",
       "      <th>Manufacturing lead time</th>\n",
       "      <th>Manufacturing costs</th>\n",
       "      <th>Inspection results</th>\n",
       "      <th>Defect rates</th>\n",
       "      <th>Transportation modes</th>\n",
       "      <th>Routes</th>\n",
       "      <th>Costs</th>\n",
       "    </tr>\n",
       "  </thead>\n",
       "  <tbody>\n",
       "    <tr>\n",
       "      <th>0</th>\n",
       "      <td>haircare</td>\n",
       "      <td>SKU0</td>\n",
       "      <td>69.808006</td>\n",
       "      <td>55</td>\n",
       "      <td>802</td>\n",
       "      <td>8661.996792</td>\n",
       "      <td>Non-binary</td>\n",
       "      <td>58</td>\n",
       "      <td>7</td>\n",
       "      <td>96</td>\n",
       "      <td>...</td>\n",
       "      <td>Mumbai</td>\n",
       "      <td>29</td>\n",
       "      <td>215</td>\n",
       "      <td>29</td>\n",
       "      <td>46.279879</td>\n",
       "      <td>Pending</td>\n",
       "      <td>0.226410</td>\n",
       "      <td>Road</td>\n",
       "      <td>Route B</td>\n",
       "      <td>187.752075</td>\n",
       "    </tr>\n",
       "    <tr>\n",
       "      <th>1</th>\n",
       "      <td>skincare</td>\n",
       "      <td>SKU1</td>\n",
       "      <td>14.843523</td>\n",
       "      <td>95</td>\n",
       "      <td>736</td>\n",
       "      <td>7460.900065</td>\n",
       "      <td>Female</td>\n",
       "      <td>53</td>\n",
       "      <td>30</td>\n",
       "      <td>37</td>\n",
       "      <td>...</td>\n",
       "      <td>Mumbai</td>\n",
       "      <td>23</td>\n",
       "      <td>517</td>\n",
       "      <td>30</td>\n",
       "      <td>33.616769</td>\n",
       "      <td>Pending</td>\n",
       "      <td>4.854068</td>\n",
       "      <td>Road</td>\n",
       "      <td>Route B</td>\n",
       "      <td>503.065579</td>\n",
       "    </tr>\n",
       "    <tr>\n",
       "      <th>2</th>\n",
       "      <td>haircare</td>\n",
       "      <td>SKU2</td>\n",
       "      <td>11.319683</td>\n",
       "      <td>34</td>\n",
       "      <td>8</td>\n",
       "      <td>9577.749626</td>\n",
       "      <td>Unknown</td>\n",
       "      <td>1</td>\n",
       "      <td>10</td>\n",
       "      <td>88</td>\n",
       "      <td>...</td>\n",
       "      <td>Mumbai</td>\n",
       "      <td>12</td>\n",
       "      <td>971</td>\n",
       "      <td>27</td>\n",
       "      <td>30.688019</td>\n",
       "      <td>Pending</td>\n",
       "      <td>4.580593</td>\n",
       "      <td>Air</td>\n",
       "      <td>Route C</td>\n",
       "      <td>141.920282</td>\n",
       "    </tr>\n",
       "    <tr>\n",
       "      <th>3</th>\n",
       "      <td>skincare</td>\n",
       "      <td>SKU3</td>\n",
       "      <td>61.163343</td>\n",
       "      <td>68</td>\n",
       "      <td>83</td>\n",
       "      <td>7766.836426</td>\n",
       "      <td>Non-binary</td>\n",
       "      <td>23</td>\n",
       "      <td>13</td>\n",
       "      <td>59</td>\n",
       "      <td>...</td>\n",
       "      <td>Kolkata</td>\n",
       "      <td>24</td>\n",
       "      <td>937</td>\n",
       "      <td>18</td>\n",
       "      <td>35.624741</td>\n",
       "      <td>Fail</td>\n",
       "      <td>4.746649</td>\n",
       "      <td>Rail</td>\n",
       "      <td>Route A</td>\n",
       "      <td>254.776159</td>\n",
       "    </tr>\n",
       "    <tr>\n",
       "      <th>4</th>\n",
       "      <td>skincare</td>\n",
       "      <td>SKU4</td>\n",
       "      <td>4.805496</td>\n",
       "      <td>26</td>\n",
       "      <td>871</td>\n",
       "      <td>2686.505152</td>\n",
       "      <td>Non-binary</td>\n",
       "      <td>5</td>\n",
       "      <td>3</td>\n",
       "      <td>56</td>\n",
       "      <td>...</td>\n",
       "      <td>Delhi</td>\n",
       "      <td>5</td>\n",
       "      <td>414</td>\n",
       "      <td>3</td>\n",
       "      <td>92.065161</td>\n",
       "      <td>Fail</td>\n",
       "      <td>3.145580</td>\n",
       "      <td>Air</td>\n",
       "      <td>Route A</td>\n",
       "      <td>923.440632</td>\n",
       "    </tr>\n",
       "  </tbody>\n",
       "</table>\n",
       "<p>5 rows × 24 columns</p>\n",
       "</div>"
      ]
     },
     "metadata": {
      "application/vnd.databricks.v1+output": {
       "addedWidgets": {},
       "arguments": {},
       "data": "<div>\n<style scoped>\n    .dataframe tbody tr th:only-of-type {\n        vertical-align: middle;\n    }\n\n    .dataframe tbody tr th {\n        vertical-align: top;\n    }\n\n    .dataframe thead th {\n        text-align: right;\n    }\n</style>\n<table border=\"1\" class=\"dataframe\">\n  <thead>\n    <tr style=\"text-align: right;\">\n      <th></th>\n      <th>Product type</th>\n      <th>SKU</th>\n      <th>Price</th>\n      <th>Availability</th>\n      <th>Number of products sold</th>\n      <th>Revenue generated</th>\n      <th>Customer demographics</th>\n      <th>Stock levels</th>\n      <th>Lead times</th>\n      <th>Order quantities</th>\n      <th>...</th>\n      <th>Location</th>\n      <th>Lead time</th>\n      <th>Production volumes</th>\n      <th>Manufacturing lead time</th>\n      <th>Manufacturing costs</th>\n      <th>Inspection results</th>\n      <th>Defect rates</th>\n      <th>Transportation modes</th>\n      <th>Routes</th>\n      <th>Costs</th>\n    </tr>\n  </thead>\n  <tbody>\n    <tr>\n      <th>0</th>\n      <td>haircare</td>\n      <td>SKU0</td>\n      <td>69.808006</td>\n      <td>55</td>\n      <td>802</td>\n      <td>8661.996792</td>\n      <td>Non-binary</td>\n      <td>58</td>\n      <td>7</td>\n      <td>96</td>\n      <td>...</td>\n      <td>Mumbai</td>\n      <td>29</td>\n      <td>215</td>\n      <td>29</td>\n      <td>46.279879</td>\n      <td>Pending</td>\n      <td>0.226410</td>\n      <td>Road</td>\n      <td>Route B</td>\n      <td>187.752075</td>\n    </tr>\n    <tr>\n      <th>1</th>\n      <td>skincare</td>\n      <td>SKU1</td>\n      <td>14.843523</td>\n      <td>95</td>\n      <td>736</td>\n      <td>7460.900065</td>\n      <td>Female</td>\n      <td>53</td>\n      <td>30</td>\n      <td>37</td>\n      <td>...</td>\n      <td>Mumbai</td>\n      <td>23</td>\n      <td>517</td>\n      <td>30</td>\n      <td>33.616769</td>\n      <td>Pending</td>\n      <td>4.854068</td>\n      <td>Road</td>\n      <td>Route B</td>\n      <td>503.065579</td>\n    </tr>\n    <tr>\n      <th>2</th>\n      <td>haircare</td>\n      <td>SKU2</td>\n      <td>11.319683</td>\n      <td>34</td>\n      <td>8</td>\n      <td>9577.749626</td>\n      <td>Unknown</td>\n      <td>1</td>\n      <td>10</td>\n      <td>88</td>\n      <td>...</td>\n      <td>Mumbai</td>\n      <td>12</td>\n      <td>971</td>\n      <td>27</td>\n      <td>30.688019</td>\n      <td>Pending</td>\n      <td>4.580593</td>\n      <td>Air</td>\n      <td>Route C</td>\n      <td>141.920282</td>\n    </tr>\n    <tr>\n      <th>3</th>\n      <td>skincare</td>\n      <td>SKU3</td>\n      <td>61.163343</td>\n      <td>68</td>\n      <td>83</td>\n      <td>7766.836426</td>\n      <td>Non-binary</td>\n      <td>23</td>\n      <td>13</td>\n      <td>59</td>\n      <td>...</td>\n      <td>Kolkata</td>\n      <td>24</td>\n      <td>937</td>\n      <td>18</td>\n      <td>35.624741</td>\n      <td>Fail</td>\n      <td>4.746649</td>\n      <td>Rail</td>\n      <td>Route A</td>\n      <td>254.776159</td>\n    </tr>\n    <tr>\n      <th>4</th>\n      <td>skincare</td>\n      <td>SKU4</td>\n      <td>4.805496</td>\n      <td>26</td>\n      <td>871</td>\n      <td>2686.505152</td>\n      <td>Non-binary</td>\n      <td>5</td>\n      <td>3</td>\n      <td>56</td>\n      <td>...</td>\n      <td>Delhi</td>\n      <td>5</td>\n      <td>414</td>\n      <td>3</td>\n      <td>92.065161</td>\n      <td>Fail</td>\n      <td>3.145580</td>\n      <td>Air</td>\n      <td>Route A</td>\n      <td>923.440632</td>\n    </tr>\n  </tbody>\n</table>\n<p>5 rows × 24 columns</p>\n</div>",
       "datasetInfos": [],
       "metadata": {},
       "removedWidgets": [],
       "textData": null,
       "type": "htmlSandbox"
      }
     },
     "output_type": "display_data"
    }
   ],
   "source": [
    "df.head(5)"
   ]
  },
  {
   "cell_type": "code",
   "execution_count": 0,
   "metadata": {
    "application/vnd.databricks.v1+cell": {
     "cellMetadata": {
      "byteLimit": 2048000,
      "rowLimit": 10000
     },
     "inputWidgets": {},
     "nuid": "530cff07-df56-4c0d-ac8c-b935287c8569",
     "showTitle": false,
     "tableResultSettingsMap": {},
     "title": ""
    }
   },
   "outputs": [],
   "source": [
    "from pyspark.sql import SparkSession\n",
    "from pyspark.sql.functions import col , date_format\n",
    "from pyspark.ml.feature import VectorAssembler\n",
    "from pyspark.ml.regression import RandomForestRegressor\n",
    "from pyspark.ml.evaluation import RegressionEvaluator"
   ]
  },
  {
   "cell_type": "code",
   "execution_count": 0,
   "metadata": {
    "application/vnd.databricks.v1+cell": {
     "cellMetadata": {
      "byteLimit": 2048000,
      "rowLimit": 10000
     },
     "inputWidgets": {},
     "nuid": "ba0830c9-66c2-4acd-84f7-2d3531fce56b",
     "showTitle": false,
     "tableResultSettingsMap": {},
     "title": ""
    }
   },
   "outputs": [],
   "source": [
    "spark  = SparkSession.builder.appName(\"supply chain inventory price prediction\").getOrCreate()\n",
    "inventory_df= spark.createDataFrame(df)"
   ]
  },
  {
   "cell_type": "code",
   "execution_count": 0,
   "metadata": {
    "application/vnd.databricks.v1+cell": {
     "cellMetadata": {
      "byteLimit": 2048000,
      "rowLimit": 10000
     },
     "inputWidgets": {},
     "nuid": "81435037-539b-4197-8306-2350583a7b26",
     "showTitle": false,
     "tableResultSettingsMap": {},
     "title": ""
    }
   },
   "outputs": [
    {
     "name": "stdout",
     "output_type": "stream",
     "text": [
      "Out[16]: ['Product type',\n",
      " 'SKU',\n",
      " 'Price',\n",
      " 'Availability',\n",
      " 'Number of products sold',\n",
      " 'Revenue generated',\n",
      " 'Customer demographics',\n",
      " 'Stock levels',\n",
      " 'Lead times',\n",
      " 'Order quantities',\n",
      " 'Shipping times',\n",
      " 'Shipping carriers',\n",
      " 'Shipping costs',\n",
      " 'Supplier name',\n",
      " 'Location',\n",
      " 'Lead time',\n",
      " 'Production volumes',\n",
      " 'Manufacturing lead time',\n",
      " 'Manufacturing costs',\n",
      " 'Inspection results',\n",
      " 'Defect rates',\n",
      " 'Transportation modes',\n",
      " 'Routes',\n",
      " 'Costs']"
     ]
    }
   ],
   "source": [
    "inventory_df.columns"
   ]
  },
  {
   "cell_type": "code",
   "execution_count": 0,
   "metadata": {
    "application/vnd.databricks.v1+cell": {
     "cellMetadata": {
      "byteLimit": 2048000,
      "rowLimit": 10000
     },
     "inputWidgets": {},
     "nuid": "7608e3c1-68e9-4f98-951d-959ba4051b4d",
     "showTitle": false,
     "tableResultSettingsMap": {},
     "title": ""
    }
   },
   "outputs": [],
   "source": [
    "inputColumn =[\"Price\",'Stock levels']"
   ]
  },
  {
   "cell_type": "code",
   "execution_count": 0,
   "metadata": {
    "application/vnd.databricks.v1+cell": {
     "cellMetadata": {
      "byteLimit": 2048000,
      "rowLimit": 10000
     },
     "inputWidgets": {},
     "nuid": "b69f120f-aa09-4f8b-baf9-f3419d5c6288",
     "showTitle": false,
     "tableResultSettingsMap": {},
     "title": ""
    }
   },
   "outputs": [],
   "source": [
    "assembler = VectorAssembler(inputCols=[\"Price\",\"Stock levels\"],outputCol=\"features\")\n",
    "data = assembler.transform(inventory_df).select(\"features\",\"price\")"
   ]
  },
  {
   "cell_type": "code",
   "execution_count": 0,
   "metadata": {
    "application/vnd.databricks.v1+cell": {
     "cellMetadata": {
      "byteLimit": 2048000,
      "rowLimit": 10000
     },
     "inputWidgets": {},
     "nuid": "f0718dde-ddac-4007-84a7-ec953a237453",
     "showTitle": false,
     "tableResultSettingsMap": {},
     "title": ""
    }
   },
   "outputs": [
    {
     "name": "stdout",
     "output_type": "stream",
     "text": [
      "+--------------------+------------------+\n",
      "|            features|             price|\n",
      "+--------------------+------------------+\n",
      "|[69.8080055421157...| 69.80800554211577|\n",
      "|[14.8435232750843...| 14.84352327508434|\n",
      "|[11.3196832930905...|11.319683293090566|\n",
      "|[61.1633430164377...|61.163343016437736|\n",
      "|[4.80549603634589...| 4.805496036345893|\n",
      "|[1.69997601386593...|1.6999760138659377|\n",
      "|[4.07833286310794...| 4.078332863107945|\n",
      "|[42.9583843824600...| 42.95838438246007|\n",
      "|[68.7175967485273...| 68.71759674852733|\n",
      "|[64.0157329412785...| 64.01573294127854|\n",
      "|[15.7077956819121...|15.707795681912138|\n",
      "|[90.6354599822886...| 90.63545998228868|\n",
      "|[71.2133890753600...| 71.21338907536008|\n",
      "|[16.1603933173799...|16.160393317379977|\n",
      "|[99.1713286386242...|  99.1713286386242|\n",
      "|[36.9892449286269...| 36.98924492862691|\n",
      "|[7.54717210979127...| 7.547172109791272|\n",
      "|[81.4625343692370...| 81.46253436923702|\n",
      "|[36.4436277704609...|36.443627770460935|\n",
      "|[51.1238700879647...| 51.12387008796474|\n",
      "+--------------------+------------------+\n",
      "only showing top 20 rows\n",
      "\n"
     ]
    }
   ],
   "source": [
    "data.show()"
   ]
  },
  {
   "cell_type": "code",
   "execution_count": 0,
   "metadata": {
    "application/vnd.databricks.v1+cell": {
     "cellMetadata": {
      "byteLimit": 2048000,
      "rowLimit": 10000
     },
     "inputWidgets": {},
     "nuid": "eadab606-7bd1-412f-945e-1c491c02b3d6",
     "showTitle": false,
     "tableResultSettingsMap": {},
     "title": ""
    }
   },
   "outputs": [],
   "source": [
    "train_data , test_data = data.randomSplit([.8,.2])"
   ]
  },
  {
   "cell_type": "code",
   "execution_count": 0,
   "metadata": {
    "application/vnd.databricks.v1+cell": {
     "cellMetadata": {
      "byteLimit": 2048000,
      "rowLimit": 10000
     },
     "inputWidgets": {},
     "nuid": "386fdf55-fe9e-4419-a996-0a0067d3a895",
     "showTitle": false,
     "tableResultSettingsMap": {},
     "title": ""
    }
   },
   "outputs": [],
   "source": [
    "rf = RandomForestRegressor(featuresCol=\"features\",labelCol=\"price\",numTrees=10000)\n",
    "model = rf.fit(train_data)"
   ]
  },
  {
   "cell_type": "code",
   "execution_count": 0,
   "metadata": {
    "application/vnd.databricks.v1+cell": {
     "cellMetadata": {
      "byteLimit": 2048000,
      "rowLimit": 10000
     },
     "inputWidgets": {},
     "nuid": "b920fbee-4a25-4099-af63-5554dfd60979",
     "showTitle": false,
     "tableResultSettingsMap": {},
     "title": ""
    }
   },
   "outputs": [],
   "source": [
    "prediction = model.transform(test_data)"
   ]
  },
  {
   "cell_type": "code",
   "execution_count": 0,
   "metadata": {
    "application/vnd.databricks.v1+cell": {
     "cellMetadata": {
      "byteLimit": 2048000,
      "rowLimit": 10000
     },
     "inputWidgets": {},
     "nuid": "c3381215-e7e2-49f1-88c2-43611e8e791d",
     "showTitle": false,
     "tableResultSettingsMap": {},
     "title": ""
    }
   },
   "outputs": [
    {
     "name": "stdout",
     "output_type": "stream",
     "text": [
      "Out[33]: 4.83204525726761"
     ]
    }
   ],
   "source": [
    "evaluator = RegressionEvaluator(labelCol=\"price\",predictionCol=\"prediction\",metricName=\"rmse\")\n",
    "evaluator.evaluate(prediction)"
   ]
  },
  {
   "cell_type": "code",
   "execution_count": 0,
   "metadata": {
    "application/vnd.databricks.v1+cell": {
     "cellMetadata": {
      "byteLimit": 2048000,
      "rowLimit": 10000
     },
     "inputWidgets": {},
     "nuid": "ba22ed77-ab1d-487f-9dbf-35c9bb0720d0",
     "showTitle": false,
     "tableResultSettingsMap": {},
     "title": ""
    }
   },
   "outputs": [
    {
     "name": "stdout",
     "output_type": "stream",
     "text": [
      "+--------------------+------------------+------------------+\n",
      "|            features|             price|        prediction|\n",
      "+--------------------+------------------+------------------+\n",
      "|[4.32434118586416...| 4.324341185864164| 10.54448527165384|\n",
      "|[16.1603933173799...|16.160393317379977|17.940644764220156|\n",
      "|[27.6797808865019...| 27.67978088650196|30.369071399261603|\n",
      "|[42.9583843824600...| 42.95838438246007| 38.83654593588601|\n",
      "|[84.8938689849508...| 84.89386898495083| 84.13890789889011|\n",
      "|[8.02285921052639...| 8.022859210526393|15.484405584892126|\n",
      "|[19.1274772658232...|19.127477265823256|17.940644764220156|\n",
      "|[52.0759306827078...|  52.0759306827078| 60.56321540465637|\n",
      "|[64.7954350001556...|  64.7954350001556| 69.41248548720813|\n",
      "|[84.9577868163504...| 84.95778681635043|  83.9105091334798|\n",
      "|[97.4469466178928...| 97.44694661789282| 92.64505406000946|\n",
      "|[99.1132916153171...| 99.11329161531717| 93.30582157385349|\n",
      "|[6.38153316274796...| 6.381533162747966|11.627768671927344|\n",
      "|[17.0280279201887...|17.028027920188702| 16.76184481852452|\n",
      "|[31.1462431602408...|31.146243160240854|30.005051236401435|\n",
      "|[47.9145418240587...|47.914541824058766| 50.19762609757973|\n",
      "|[52.0287499032949...| 52.02874990329492| 61.92616483604796|\n",
      "|[72.7963539555873...| 72.79635395558736| 71.48877608283473|\n",
      "|[3.03768872463141...| 3.037688724631414| 9.158571609635574|\n",
      "|[3.52611125914341...| 3.526111259143416| 9.549012882115136|\n",
      "+--------------------+------------------+------------------+\n",
      "only showing top 20 rows\n",
      "\n"
     ]
    }
   ],
   "source": [
    "prediction.show()"
   ]
  },
  {
   "cell_type": "code",
   "execution_count": 0,
   "metadata": {
    "application/vnd.databricks.v1+cell": {
     "cellMetadata": {
      "byteLimit": 2048000,
      "rowLimit": 10000
     },
     "inputWidgets": {},
     "nuid": "4f18e390-1e6a-4b2e-bf3a-9d6bef5c57d7",
     "showTitle": false,
     "tableResultSettingsMap": {},
     "title": ""
    }
   },
   "outputs": [],
   "source": [
    "df_prediction = prediction.select(\"price\",\"prediction\").toPandas()"
   ]
  },
  {
   "cell_type": "code",
   "execution_count": 0,
   "metadata": {
    "application/vnd.databricks.v1+cell": {
     "cellMetadata": {
      "byteLimit": 2048000,
      "rowLimit": 10000
     },
     "inputWidgets": {},
     "nuid": "9bf4c37c-1873-428c-9fda-fe42ad204659",
     "showTitle": false,
     "tableResultSettingsMap": {},
     "title": ""
    }
   },
   "outputs": [
    {
     "data": {
      "text/html": [
       "<div>\n",
       "<style scoped>\n",
       "    .dataframe tbody tr th:only-of-type {\n",
       "        vertical-align: middle;\n",
       "    }\n",
       "\n",
       "    .dataframe tbody tr th {\n",
       "        vertical-align: top;\n",
       "    }\n",
       "\n",
       "    .dataframe thead th {\n",
       "        text-align: right;\n",
       "    }\n",
       "</style>\n",
       "<table border=\"1\" class=\"dataframe\">\n",
       "  <thead>\n",
       "    <tr style=\"text-align: right;\">\n",
       "      <th></th>\n",
       "      <th>price</th>\n",
       "      <th>prediction</th>\n",
       "    </tr>\n",
       "  </thead>\n",
       "  <tbody>\n",
       "    <tr>\n",
       "      <th>0</th>\n",
       "      <td>4.324341</td>\n",
       "      <td>10.544485</td>\n",
       "    </tr>\n",
       "    <tr>\n",
       "      <th>1</th>\n",
       "      <td>16.160393</td>\n",
       "      <td>17.940645</td>\n",
       "    </tr>\n",
       "    <tr>\n",
       "      <th>2</th>\n",
       "      <td>27.679781</td>\n",
       "      <td>30.369071</td>\n",
       "    </tr>\n",
       "    <tr>\n",
       "      <th>3</th>\n",
       "      <td>42.958384</td>\n",
       "      <td>38.836546</td>\n",
       "    </tr>\n",
       "    <tr>\n",
       "      <th>4</th>\n",
       "      <td>84.893869</td>\n",
       "      <td>84.138908</td>\n",
       "    </tr>\n",
       "    <tr>\n",
       "      <th>5</th>\n",
       "      <td>8.022859</td>\n",
       "      <td>15.484406</td>\n",
       "    </tr>\n",
       "    <tr>\n",
       "      <th>6</th>\n",
       "      <td>19.127477</td>\n",
       "      <td>17.940645</td>\n",
       "    </tr>\n",
       "    <tr>\n",
       "      <th>7</th>\n",
       "      <td>52.075931</td>\n",
       "      <td>60.563215</td>\n",
       "    </tr>\n",
       "    <tr>\n",
       "      <th>8</th>\n",
       "      <td>64.795435</td>\n",
       "      <td>69.412485</td>\n",
       "    </tr>\n",
       "    <tr>\n",
       "      <th>9</th>\n",
       "      <td>84.957787</td>\n",
       "      <td>83.910509</td>\n",
       "    </tr>\n",
       "    <tr>\n",
       "      <th>10</th>\n",
       "      <td>97.446947</td>\n",
       "      <td>92.645054</td>\n",
       "    </tr>\n",
       "    <tr>\n",
       "      <th>11</th>\n",
       "      <td>99.113292</td>\n",
       "      <td>93.305822</td>\n",
       "    </tr>\n",
       "    <tr>\n",
       "      <th>12</th>\n",
       "      <td>6.381533</td>\n",
       "      <td>11.627769</td>\n",
       "    </tr>\n",
       "    <tr>\n",
       "      <th>13</th>\n",
       "      <td>17.028028</td>\n",
       "      <td>16.761845</td>\n",
       "    </tr>\n",
       "    <tr>\n",
       "      <th>14</th>\n",
       "      <td>31.146243</td>\n",
       "      <td>30.005051</td>\n",
       "    </tr>\n",
       "    <tr>\n",
       "      <th>15</th>\n",
       "      <td>47.914542</td>\n",
       "      <td>50.197626</td>\n",
       "    </tr>\n",
       "    <tr>\n",
       "      <th>16</th>\n",
       "      <td>52.028750</td>\n",
       "      <td>61.926165</td>\n",
       "    </tr>\n",
       "    <tr>\n",
       "      <th>17</th>\n",
       "      <td>72.796354</td>\n",
       "      <td>71.488776</td>\n",
       "    </tr>\n",
       "    <tr>\n",
       "      <th>18</th>\n",
       "      <td>3.037689</td>\n",
       "      <td>9.158572</td>\n",
       "    </tr>\n",
       "    <tr>\n",
       "      <th>19</th>\n",
       "      <td>3.526111</td>\n",
       "      <td>9.549013</td>\n",
       "    </tr>\n",
       "    <tr>\n",
       "      <th>20</th>\n",
       "      <td>6.306883</td>\n",
       "      <td>7.958836</td>\n",
       "    </tr>\n",
       "    <tr>\n",
       "      <th>21</th>\n",
       "      <td>13.881914</td>\n",
       "      <td>20.938111</td>\n",
       "    </tr>\n",
       "    <tr>\n",
       "      <th>22</th>\n",
       "      <td>57.057031</td>\n",
       "      <td>62.101429</td>\n",
       "    </tr>\n",
       "    <tr>\n",
       "      <th>23</th>\n",
       "      <td>62.111965</td>\n",
       "      <td>66.883282</td>\n",
       "    </tr>\n",
       "    <tr>\n",
       "      <th>24</th>\n",
       "      <td>68.517833</td>\n",
       "      <td>70.981588</td>\n",
       "    </tr>\n",
       "    <tr>\n",
       "      <th>25</th>\n",
       "      <td>75.270407</td>\n",
       "      <td>75.015180</td>\n",
       "    </tr>\n",
       "    <tr>\n",
       "      <th>26</th>\n",
       "      <td>76.962994</td>\n",
       "      <td>75.619769</td>\n",
       "    </tr>\n",
       "    <tr>\n",
       "      <th>27</th>\n",
       "      <td>97.760086</td>\n",
       "      <td>88.069222</td>\n",
       "    </tr>\n",
       "    <tr>\n",
       "      <th>28</th>\n",
       "      <td>4.156308</td>\n",
       "      <td>7.836882</td>\n",
       "    </tr>\n",
       "    <tr>\n",
       "      <th>29</th>\n",
       "      <td>68.717597</td>\n",
       "      <td>66.520124</td>\n",
       "    </tr>\n",
       "    <tr>\n",
       "      <th>30</th>\n",
       "      <td>8.022859</td>\n",
       "      <td>15.484406</td>\n",
       "    </tr>\n",
       "    <tr>\n",
       "      <th>31</th>\n",
       "      <td>11.743272</td>\n",
       "      <td>14.903095</td>\n",
       "    </tr>\n",
       "    <tr>\n",
       "      <th>32</th>\n",
       "      <td>37.467592</td>\n",
       "      <td>35.476535</td>\n",
       "    </tr>\n",
       "    <tr>\n",
       "      <th>33</th>\n",
       "      <td>13.017377</td>\n",
       "      <td>17.557882</td>\n",
       "    </tr>\n",
       "    <tr>\n",
       "      <th>34</th>\n",
       "      <td>17.028028</td>\n",
       "      <td>16.761845</td>\n",
       "    </tr>\n",
       "    <tr>\n",
       "      <th>35</th>\n",
       "      <td>20.986386</td>\n",
       "      <td>19.937342</td>\n",
       "    </tr>\n",
       "    <tr>\n",
       "      <th>36</th>\n",
       "      <td>49.263205</td>\n",
       "      <td>51.722841</td>\n",
       "    </tr>\n",
       "    <tr>\n",
       "      <th>37</th>\n",
       "      <td>52.028750</td>\n",
       "      <td>61.926165</td>\n",
       "    </tr>\n",
       "    <tr>\n",
       "      <th>38</th>\n",
       "      <td>54.865529</td>\n",
       "      <td>57.686849</td>\n",
       "    </tr>\n",
       "    <tr>\n",
       "      <th>39</th>\n",
       "      <td>13.881914</td>\n",
       "      <td>20.938111</td>\n",
       "    </tr>\n",
       "    <tr>\n",
       "      <th>40</th>\n",
       "      <td>62.111965</td>\n",
       "      <td>66.883282</td>\n",
       "    </tr>\n",
       "    <tr>\n",
       "      <th>41</th>\n",
       "      <td>89.104367</td>\n",
       "      <td>87.979348</td>\n",
       "    </tr>\n",
       "  </tbody>\n",
       "</table>\n",
       "</div>"
      ]
     },
     "metadata": {
      "application/vnd.databricks.v1+output": {
       "addedWidgets": {},
       "arguments": {},
       "data": "<div>\n<style scoped>\n    .dataframe tbody tr th:only-of-type {\n        vertical-align: middle;\n    }\n\n    .dataframe tbody tr th {\n        vertical-align: top;\n    }\n\n    .dataframe thead th {\n        text-align: right;\n    }\n</style>\n<table border=\"1\" class=\"dataframe\">\n  <thead>\n    <tr style=\"text-align: right;\">\n      <th></th>\n      <th>price</th>\n      <th>prediction</th>\n    </tr>\n  </thead>\n  <tbody>\n    <tr>\n      <th>0</th>\n      <td>4.324341</td>\n      <td>10.544485</td>\n    </tr>\n    <tr>\n      <th>1</th>\n      <td>16.160393</td>\n      <td>17.940645</td>\n    </tr>\n    <tr>\n      <th>2</th>\n      <td>27.679781</td>\n      <td>30.369071</td>\n    </tr>\n    <tr>\n      <th>3</th>\n      <td>42.958384</td>\n      <td>38.836546</td>\n    </tr>\n    <tr>\n      <th>4</th>\n      <td>84.893869</td>\n      <td>84.138908</td>\n    </tr>\n    <tr>\n      <th>5</th>\n      <td>8.022859</td>\n      <td>15.484406</td>\n    </tr>\n    <tr>\n      <th>6</th>\n      <td>19.127477</td>\n      <td>17.940645</td>\n    </tr>\n    <tr>\n      <th>7</th>\n      <td>52.075931</td>\n      <td>60.563215</td>\n    </tr>\n    <tr>\n      <th>8</th>\n      <td>64.795435</td>\n      <td>69.412485</td>\n    </tr>\n    <tr>\n      <th>9</th>\n      <td>84.957787</td>\n      <td>83.910509</td>\n    </tr>\n    <tr>\n      <th>10</th>\n      <td>97.446947</td>\n      <td>92.645054</td>\n    </tr>\n    <tr>\n      <th>11</th>\n      <td>99.113292</td>\n      <td>93.305822</td>\n    </tr>\n    <tr>\n      <th>12</th>\n      <td>6.381533</td>\n      <td>11.627769</td>\n    </tr>\n    <tr>\n      <th>13</th>\n      <td>17.028028</td>\n      <td>16.761845</td>\n    </tr>\n    <tr>\n      <th>14</th>\n      <td>31.146243</td>\n      <td>30.005051</td>\n    </tr>\n    <tr>\n      <th>15</th>\n      <td>47.914542</td>\n      <td>50.197626</td>\n    </tr>\n    <tr>\n      <th>16</th>\n      <td>52.028750</td>\n      <td>61.926165</td>\n    </tr>\n    <tr>\n      <th>17</th>\n      <td>72.796354</td>\n      <td>71.488776</td>\n    </tr>\n    <tr>\n      <th>18</th>\n      <td>3.037689</td>\n      <td>9.158572</td>\n    </tr>\n    <tr>\n      <th>19</th>\n      <td>3.526111</td>\n      <td>9.549013</td>\n    </tr>\n    <tr>\n      <th>20</th>\n      <td>6.306883</td>\n      <td>7.958836</td>\n    </tr>\n    <tr>\n      <th>21</th>\n      <td>13.881914</td>\n      <td>20.938111</td>\n    </tr>\n    <tr>\n      <th>22</th>\n      <td>57.057031</td>\n      <td>62.101429</td>\n    </tr>\n    <tr>\n      <th>23</th>\n      <td>62.111965</td>\n      <td>66.883282</td>\n    </tr>\n    <tr>\n      <th>24</th>\n      <td>68.517833</td>\n      <td>70.981588</td>\n    </tr>\n    <tr>\n      <th>25</th>\n      <td>75.270407</td>\n      <td>75.015180</td>\n    </tr>\n    <tr>\n      <th>26</th>\n      <td>76.962994</td>\n      <td>75.619769</td>\n    </tr>\n    <tr>\n      <th>27</th>\n      <td>97.760086</td>\n      <td>88.069222</td>\n    </tr>\n    <tr>\n      <th>28</th>\n      <td>4.156308</td>\n      <td>7.836882</td>\n    </tr>\n    <tr>\n      <th>29</th>\n      <td>68.717597</td>\n      <td>66.520124</td>\n    </tr>\n    <tr>\n      <th>30</th>\n      <td>8.022859</td>\n      <td>15.484406</td>\n    </tr>\n    <tr>\n      <th>31</th>\n      <td>11.743272</td>\n      <td>14.903095</td>\n    </tr>\n    <tr>\n      <th>32</th>\n      <td>37.467592</td>\n      <td>35.476535</td>\n    </tr>\n    <tr>\n      <th>33</th>\n      <td>13.017377</td>\n      <td>17.557882</td>\n    </tr>\n    <tr>\n      <th>34</th>\n      <td>17.028028</td>\n      <td>16.761845</td>\n    </tr>\n    <tr>\n      <th>35</th>\n      <td>20.986386</td>\n      <td>19.937342</td>\n    </tr>\n    <tr>\n      <th>36</th>\n      <td>49.263205</td>\n      <td>51.722841</td>\n    </tr>\n    <tr>\n      <th>37</th>\n      <td>52.028750</td>\n      <td>61.926165</td>\n    </tr>\n    <tr>\n      <th>38</th>\n      <td>54.865529</td>\n      <td>57.686849</td>\n    </tr>\n    <tr>\n      <th>39</th>\n      <td>13.881914</td>\n      <td>20.938111</td>\n    </tr>\n    <tr>\n      <th>40</th>\n      <td>62.111965</td>\n      <td>66.883282</td>\n    </tr>\n    <tr>\n      <th>41</th>\n      <td>89.104367</td>\n      <td>87.979348</td>\n    </tr>\n  </tbody>\n</table>\n</div>",
       "datasetInfos": [],
       "metadata": {},
       "removedWidgets": [],
       "textData": null,
       "type": "htmlSandbox"
      }
     },
     "output_type": "display_data"
    }
   ],
   "source": [
    "df_prediction"
   ]
  },
  {
   "cell_type": "code",
   "execution_count": 0,
   "metadata": {
    "application/vnd.databricks.v1+cell": {
     "cellMetadata": {
      "byteLimit": 2048000,
      "rowLimit": 10000
     },
     "inputWidgets": {},
     "nuid": "62f1fc93-ebd9-4f05-bd47-f6a3ac40caf3",
     "showTitle": false,
     "tableResultSettingsMap": {},
     "title": ""
    }
   },
   "outputs": [
    {
     "name": "stdout",
     "output_type": "stream",
     "text": [
      "Out[36]: InsertManyResult([ObjectId('67deade1cbda351b787e8d33'), ObjectId('67deade1cbda351b787e8d34'), ObjectId('67deade1cbda351b787e8d35'), ObjectId('67deade1cbda351b787e8d36'), ObjectId('67deade1cbda351b787e8d37'), ObjectId('67deade1cbda351b787e8d38'), ObjectId('67deade1cbda351b787e8d39'), ObjectId('67deade1cbda351b787e8d3a'), ObjectId('67deade1cbda351b787e8d3b'), ObjectId('67deade1cbda351b787e8d3c'), ObjectId('67deade1cbda351b787e8d3d'), ObjectId('67deade1cbda351b787e8d3e'), ObjectId('67deade1cbda351b787e8d3f'), ObjectId('67deade1cbda351b787e8d40'), ObjectId('67deade1cbda351b787e8d41'), ObjectId('67deade1cbda351b787e8d42'), ObjectId('67deade1cbda351b787e8d43'), ObjectId('67deade1cbda351b787e8d44'), ObjectId('67deade1cbda351b787e8d45'), ObjectId('67deade1cbda351b787e8d46'), ObjectId('67deade1cbda351b787e8d47'), ObjectId('67deade1cbda351b787e8d48'), ObjectId('67deade1cbda351b787e8d49'), ObjectId('67deade1cbda351b787e8d4a'), ObjectId('67deade1cbda351b787e8d4b'), ObjectId('67deade1cbda351b787e8d4c'), ObjectId('67deade1cbda351b787e8d4d'), ObjectId('67deade1cbda351b787e8d4e'), ObjectId('67deade1cbda351b787e8d4f'), ObjectId('67deade1cbda351b787e8d50'), ObjectId('67deade1cbda351b787e8d51'), ObjectId('67deade1cbda351b787e8d52'), ObjectId('67deade1cbda351b787e8d53'), ObjectId('67deade1cbda351b787e8d54'), ObjectId('67deade1cbda351b787e8d55'), ObjectId('67deade1cbda351b787e8d56'), ObjectId('67deade1cbda351b787e8d57'), ObjectId('67deade1cbda351b787e8d58'), ObjectId('67deade1cbda351b787e8d59'), ObjectId('67deade1cbda351b787e8d5a'), ObjectId('67deade1cbda351b787e8d5b'), ObjectId('67deade1cbda351b787e8d5c')], acknowledged=True)"
     ]
    }
   ],
   "source": [
    "collection_prediction  = db['prediction_data']\n",
    "data_dict = df_prediction.to_dict(orient=\"records\")\n",
    "collection_prediction.insert_many(data_dict)"
   ]
  },
  {
   "cell_type": "code",
   "execution_count": 0,
   "metadata": {
    "application/vnd.databricks.v1+cell": {
     "cellMetadata": {},
     "inputWidgets": {},
     "nuid": "d6696f46-be12-49be-9b7a-ace7c50d3818",
     "showTitle": false,
     "tableResultSettingsMap": {},
     "title": ""
    }
   },
   "outputs": [],
   "source": []
  }
 ],
 "metadata": {
  "application/vnd.databricks.v1+notebook": {
   "computePreferences": null,
   "dashboards": [],
   "environmentMetadata": {
    "base_environment": "",
    "client": "1"
   },
   "language": "python",
   "notebookMetadata": {
    "pythonIndentUnit": 4
   },
   "notebookName": "supply chain",
   "widgets": {}
  },
  "language_info": {
   "name": "python"
  }
 },
 "nbformat": 4,
 "nbformat_minor": 0
}
